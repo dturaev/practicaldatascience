{
 "cells": [
  {
   "cell_type": "markdown",
   "metadata": {},
   "source": [
    "# Installing Setting Up Your Python Installation"
   ]
  },
  {
   "cell_type": "markdown",
   "metadata": {},
   "source": [
    "In this tutorial, we'll go over how to set up all the tools you need to not only work effectively in Python. This will include not only installing Python and a system for managing Python called `conda`, but we'll also get you setup with a basic text editor for working with plaintext files.\n",
    "\n",
    "In particular, we're going to work through five things:\n",
    "\n",
    "1. Install a text editor (if you don't have one yet)\n",
    "2. Install Python with `miniconda`\n",
    "3. Configure `miniconda` to work from the command line you use (zsh or Cmder).\n",
    "4. Configure `miniconda` to use `conda-forge`\n",
    "5. Install some packages!"
   ]
  },
  {
   "cell_type": "markdown",
   "metadata": {},
   "source": [
    "## 1. Installing A Basic Text Editor\n",
    "\n",
    "One tool you will find incredibly helpful in your career as a data scientist is a good text editor designed to work with plain text files (files that just contain simple text, but no fancy formatting like a Microsoft Word document or a PDF). You've probably seen a simple version of this type of editor before (Notepad on Windows, or TextEdit on macs), but is really useful to install a more robust text editor instead.\n",
    "\n",
    "For this purpose I'm going to recommend Visual Studio Code (better known as VSCode). It's a Microsoft project, but it's open source and in addition to being an easy way to edit plaintext files comes with a lot of packages for adding extra functionality. VSCode is definitely not the only good text editor out there, and you'll find that people have very strong opinions about which one to use (some people swear by in-terminal editors like eMacs, or Vim), and personally I used to rely on Atom (since github -- which developed Atom -- was bought by Microsoft, it looks like a lot of the development energy has moved over to VSCode, so I think that's a better place to go now...). If you already have one of these and like it, please feel free to stick with it!\n",
    "\n",
    "So before we install Python, please follow the directions below to install VSCode if you don't already have a good text editor."
   ]
  },
  {
   "cell_type": "markdown",
   "metadata": {},
   "source": [
    "### Installing VSCode on Macs\n",
    "\n",
    "Download and run [installer here](https://code.visualstudio.com/download). \n",
    "\n",
    "Then to make VS Code accessible from the command line (so you can type things like `code FILENAME` and have the file you named open in VS Code), make sure that after you install VSCode, follow the directions [here (for macs)](https://code.visualstudio.com/docs/setup/mac#_launching-from-the-command-line). \n",
    "\n",
    "### Installing VSCode on Windows\n",
    "\n",
    "Download [installer here](https://code.visualstudio.com/download), and make sure that during install you select the \"Add to PATH\" option."
   ]
  },
  {
   "cell_type": "markdown",
   "metadata": {},
   "source": [
    "## 2. Installing Python and conda\n",
    "\n",
    "Unlike a programming language like R, Python doesn't have an internal system for installing and updating packages. Instead, we will need to install a dedicated Python package manager (which will also install Python itself).\n",
    "\n",
    "Within the Python ecosystem, there are two main package managers: `conda` and `pip`. Among data scientists, conda is by far the preferred choice. That's because while both conda and pip do a good job installing Python packages, conda is also capable of installing a wide range of binary dependencies that are often required for data science packages (e.g. `geos` for geospatial work, `igraph` for network analysis, etc.). Indeed, you can even do things like install R through conda. Moreover, as long as you install packages from a specific provider in conda (something will discuss how to do below), conda does a really good job of avoiding package conflicts. Of course, you will sometimes find conda doesn't have a package you need, in which case you can use `pip` without problems, but in general I recommend starting with conda. \n",
    "\n",
    "Of the first thing we need to do is install conda. Is there two ways to do this: the first is to install the Anaconda distribution, which includes both the conda package manager *and* a ton of commonly used packages; the second is to install `miniconda`, which only installs Python and the conda package manager. I strongly recommend the second option (miniconda) because in my experience having a ton of packages preinstalled causes lots of package conflicts down the road.\n",
    "\n",
    "So to install Python, go to the [miniconda Download page](https://docs.conda.io/en/latest/miniconda.html), download and install the most recent Python 3.x version of miniconda (as of Oct 2020, this was Python 3.8). (On a Mac, the `Pkg` installer is easier to use) using the installation instructions for your operating system detailed below:\n",
    "\n",
    "### Installation for Mac Users\n",
    "\n",
    "By default, miniconda will install itself into your home folder. Except that and don't try to install it in the custom location!\n",
    "\n",
    "### Installation for Windows Users\n",
    "\n",
    "When asked whether you want to install for \"Just Me\" or \"All Users\", pick \"Just Me\".\n",
    "\n",
    "One of the checkboxes during the Windows installation is \"do you want to add Anaconda to your PATH?\". Select Yes. I know they discourage it, but it allows miniconda to work well with Cmder. \n",
    "\n",
    "### If there's a Python 3.8, why is there also a Python 2.7 available?\n",
    "\n",
    "In 2000, Python 3 was first released. Python 3 fixed a lot of things people disliked about Python, but in the process it made some changes that meant code written in Python 2 would not work any more. To ease the transition to Python 3, both Python 2 and Python 3 have been supported for several years so people could keep running their Python 2 projects while they finished the transition. Almost everything is now in Python 3, so since you don’t have any old code to worry about, you want Python 3.\n",
    "\n",
    "### Deleting conda\n",
    "\n",
    "One of the really nice things about conda is that it keeps everything in a single folder, including conda, Python, and all the packages you install. As a result, if you ever need to delete your conda installation (whether it's Anaconda or miniconda), all you have to do is delete your folder. \n",
    "\n",
    "This is good to know because a lot of the troubleshooting advice you will get from the Internet when you have problems with packages is to just delete your installation and start again. In fact, if you already have a pre-existing anaconda or miniconda installation, I would actually recommend that you delete it and install a clean version using the instructions above.\n",
    "\n",
    "Depending on the exact version of conda you have installed, your installation will live in a folder that is called Anaconda3 or miniconda3 that is located in either: your home directory (`c:\\\\users\\<your username>\\` on Windows or `/users/<your username>/` on macs); in `/users/<your username>/opt` (macs); or in `/opt/` (if you installed \"For all users\"). To delete your current installation, just delete that folder!\n",
    "\n",
    "If you're on a mac, two other things to bear in mind:\n",
    "\n",
    "- if you move from Anaconda to miniconda (and thus change the name of your conda folder from `anaconda3` to `miniconda3`) or change where conda is installed, note that you'll also need to update the code snippet in your `.zshrc` file too as discussed in the next section.\n",
    "- deleting anaconda won't delete Python from your computer altogether. macOS actually has its own version of Python that the operating system relies on (something you don't really want to play with), so don't be surprised if the command `python` still works after you've deleted conda because it's referencing that other installation."
   ]
  },
  {
   "cell_type": "markdown",
   "metadata": {},
   "source": [
    "## 3. Using miniconda with Your Command Line Tool\n",
    "\n",
    "Below are some directions for making sure that you can use conda with your command line tool of choice!\n",
    "\n",
    "### Windows Users using Cmder\n",
    "\n",
    "If you're [using Cmder as suggsted](bash_on_windows.ipynb)... you're done! :) Congratulations. \n",
    "\n",
    "### Using conda with Oh-My-Zsh\n",
    "\n",
    "If you installed Oh-My-Zsh during the command line exercises ([as suggested here](command_line_part1.ipynb), then miniconda won't work right away. The problem is that when you install miniconda, it adds some code to the `.bash_profile` file in your user directory that makes conda visible to your bash session by adding it to your PATH variable (jump to the PATH variable section of the [Advanced Command Line](command_line_part2.ipynb) reading if that doesn't sound familiar).\n",
    "\n",
    "But Oh-My-Zsh doesn't run the `.bash_profile` file when it opens; it runs the `.zshrc` file. So what we have to do is move the code Anaconda put in `.bash_profile` into `.zshrc`. You can do this as follows: \n",
    "\n",
    "1. Open `.bash_profile` and copy the block of text  that begin with `# >>> conda init >>>` and ends with `# <<< conda init <<<`. You have `VSCode` now, so you can do this by openning your Terminal, and running `code ~/.bash_profile` (which will open your `.bash_profile` file in VSCode).\n",
    "2. Then open `.zshrc` (again, `code ~/.zshrc`), scroll to the bottom of the file, and past the text you copied from `.bash_profile` into `.zshrc`.\n",
    "3. Save that file, close your current session of Oh-My-Zsh, open it again, and test to see if you were successful by typing `conda -h`. If a conda helpfile gets printed out, you're good!\n",
    "\n",
    "The code you're copying should look something like the following, starting with a `# >>> conda init >>>` and ending with `# <<< conda init <<<`.\n",
    "\n",
    "\n",
    "```bash\n",
    "# added by Miniconda3 4.7.10 installer\n",
    "# >>> conda init >>>\n",
    "# !! Contents within this block are managed by 'conda init' !!\n",
    "__conda_setup=\"$(CONDA_REPORT_ERRORS=false '/Users/Nick/miniconda3/bin/conda' shell.bash hook 2> /dev/null)\"\n",
    "if [ $? -eq 0 ]; then\n",
    "    \\eval \"$__conda_setup\"\n",
    "else\n",
    "    if [ -f \"/Users/Nick/miniconda3/etc/profile.d/conda.sh\" ]; then\n",
    "        . \"/Users/Nick/miniconda3/etc/profile.d/conda.sh\"\n",
    "        CONDA_CHANGEPS1=false conda activate base\n",
    "    else\n",
    "        \\export PATH=\"/Users/Nick/miniconda3/bin:$PATH\"\n",
    "    fi\n",
    "fi\n",
    "unset __conda_setup\n",
    "# <<< conda init <<<\n",
    "```"
   ]
  },
  {
   "cell_type": "markdown",
   "metadata": {},
   "source": [
    "### Your conda works if...\n",
    "\n",
    "You can run `conda -h` from your command line and you see a helpfile print out like below instead of `conda: command not found`, you're good!\n",
    "\n",
    "```\n",
    "bash-3.2$ conda -h\n",
    "usage: conda [-h] [-V] command ...\n",
    "\n",
    "conda is a tool for managing and deploying applications, environments and packages.\n",
    "\n",
    "Options:\n",
    "\n",
    "positional arguments:\n",
    "  command\n",
    "    clean        Remove unused packages and caches.\n",
    "    config       Modify configuration values in .condarc. This is modeled\n",
    "                 after the git config command. Writes to the user .condarc\n",
    "                 file (/Users/Nick/.condarc) by default.\n",
    "    create       Create a new conda environment from a list of specified\n",
    "                 packages.\n",
    "    help         Displays a list of available conda commands and their help\n",
    "                 strings.\n",
    "    info         Display information about current conda install.\n",
    "    init         Initialize conda for shell interaction. [Experimental]\n",
    "    install      Installs a list of packages into a specified conda\n",
    "                 environment.\n",
    "    list         List linked packages in a conda environment.\n",
    "    package      Low-level conda package utility. (EXPERIMENTAL)\n",
    "    remove       Remove a list of packages from a specified conda environment.\n",
    "    uninstall    Alias for conda remove.\n",
    "    run          Run an executable in a conda environment. [Experimental]\n",
    "    search       Search for packages and display associated information. The\n",
    "                 input is a MatchSpec, a query language for conda packages.\n",
    "                 See examples below.\n",
    "    update       Updates conda packages to the latest compatible version.\n",
    "    upgrade      Alias for conda update.\n",
    "\n",
    "optional arguments:\n",
    "  -h, --help     Show this help message and exit.\n",
    "  -V, --version  Show the conda version number and exit.\n",
    "\n",
    "conda commands available from other packages:\n",
    "  env\n",
    "bash-3.2$ \n",
    "```"
   ]
  },
  {
   "cell_type": "markdown",
   "metadata": {},
   "source": [
    "## 4. Configure conda to use conda-forge\n",
    "\n",
    "Conda is a package installer, but it is capable of installing from a number of different package providers (people who prepare packages for installation). By far the best provider of packages in `conda-forge`, so we're gonna set that as your default by running the following two lines of code:\n",
    "\n",
    "```\n",
    "conda config --add channels conda-forge\n",
    "conda config --set channel_priority strict\n",
    "```"
   ]
  },
  {
   "cell_type": "markdown",
   "metadata": {},
   "source": [
    "## 5. Install some packages!\n",
    "\n",
    "As you go along in life, you'll find you need packages from time to time, but here's a good startup installation command for things you'll want in this class:\n",
    "\n",
    "```bash\n",
    "conda install pandas jupyterlab matplotlib black\n",
    "```"
   ]
  }
 ],
 "metadata": {
  "kernelspec": {
   "display_name": "Python 3",
   "language": "python",
   "name": "python3"
  },
  "language_info": {
   "codemirror_mode": {
    "name": "ipython",
    "version": 3
   },
   "file_extension": ".py",
   "mimetype": "text/x-python",
   "name": "python",
   "nbconvert_exporter": "python",
   "pygments_lexer": "ipython3",
   "version": "3.7.8"
  }
 },
 "nbformat": 4,
 "nbformat_minor": 4
}
