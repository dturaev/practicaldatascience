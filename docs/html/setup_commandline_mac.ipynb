{
 "cells": [
  {
   "cell_type": "markdown",
   "metadata": {},
   "source": [
    "# The Command Line, Basics"
   ]
  },
  {
   "cell_type": "markdown",
   "metadata": {},
   "source": [
    "## Making the Command Line Friendlier\n",
    "\n",
    "**If you installed `Cmder` on windows, as suggested above, ignore this section!**\n",
    "\n",
    "OK, if you're using a Mac or Linux machine, the basic command line is ugly, and doesn't offer much of an interface. That's why I recommend installing a slightly nicer program like [Oh My Zsh!](https://ohmyz.sh/) that causes your terminal to offer slightly more information than the default shell, especially if you use git. For example:\n",
    "\n",
    "Default Terminal:\n",
    "\n",
    "![bash](images/default_shell.png)\n",
    "\n",
    "With Oh My Z!:\n",
    "\n",
    "![zsh](images/zsh.png)\n",
    "\n",
    "See how it now shows the folder I'm in on the left; shows that I'm in a git project when I navigate into `programming4ds` and tells me the branch (don't worry if that doesn't mean much to you), and highlights folders in blue so you can tell what's a folder and what's a file? Just helps keep you sane. :)\n"
   ]
  },
  {
   "cell_type": "markdown",
   "metadata": {},
   "source": [
    "## Tab-Completion\n",
    "\n",
    "If you've installed either `oh-my-zsh!` (mac) or `Cmder` (windows) then your command line now has a *very* useful ability: tab-completion! If you start to type the name of a file then hit tab, the command line will try and fill in the full file name.\n",
    "\n",
    "To illustrate, suppose you are looking at the following folder:"
   ]
  },
  {
   "cell_type": "code",
   "execution_count": 2,
   "metadata": {},
   "outputs": [
    {
     "name": "stdout",
     "output_type": "stream",
     "text": [
      "a_folder_with_stuff\thello.txt\n",
      "example_csvs\t\tjust_another_file.txt\n"
     ]
    }
   ],
   "source": [
    "cd ~/github/programming4ds/example_data/command_line\n",
    "ls"
   ]
  },
  {
   "cell_type": "markdown",
   "metadata": {},
   "source": [
    "If I want to change my working directory to the `a_folder_with_stuff` folder, I don't need to type out the whole name: I can just type `cd a_`, press tab, and the command line will fill in the folder name itself. \n",
    "\n",
    "Note that the command line can only fill in a file once you typed enough letters that there's only one full name that would work. For example, if you are in a folder with files called `my_file1.txt`, `my_file2.txt`, and `my_file3.txt` and you type `open my_` [tab], the command line can't fill in the file name because `my_` could be the beginning of any of these file names. \n",
    "\n",
    "If you end up in this situation your command line will first try and fill in as much as it can (so it will fill in `open my_` to `open my_file`) and wait; if you hit tab again, it will list out the files that it can't decide between. "
   ]
  },
  {
   "cell_type": "markdown",
   "metadata": {},
   "source": [
    "## Command Line Exercises\n",
    "\n",
    "OK, got all that? Let's do some exercises!\n",
    "\n",
    "[Command Line Basics Exercises](./exercises/Exercise_CommandLine_1_Basics.ipynb)"
   ]
  },
  {
   "cell_type": "markdown",
   "metadata": {},
   "source": [
    "\\* *There are some graphical user interfaces that are meant to reduce the need to use the command line for things like managing python packages and git repositories, but as of 2019, they are not yet full replacements for command line tools*. "
   ]
  }
 ],
 "metadata": {
  "kernelspec": {
   "display_name": "Bash",
   "language": "bash",
   "name": "bash"
  },
  "language_info": {
   "name": "bash",
   "version": ""
  }
 },
 "nbformat": 4,
 "nbformat_minor": 4
}
