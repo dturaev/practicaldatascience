{
    "cells": [
        {
            "cell_type": "markdown",
            "source": [
                "# Mapping with Geopandas"
            ],
            "metadata": {}
        },
        {
            "cell_type": "markdown",
            "source": [
                "## Basic Plotting with Geopandas"
            ],
            "metadata": {}
        },
        {
            "cell_type": "markdown",
            "source": [
                "## Advanced Plotting with Altair"
            ],
            "metadata": {}
        },
        {
            "cell_type": "markdown",
            "source": [
                "https://iliatimofeev.github.io/gpdvega/"
            ],
            "metadata": {}
        }
    ],
    "metadata": {
        "orig_nbformat": 4,
        "language_info": {
            "name": "python"
        }
    },
    "nbformat": 4,
    "nbformat_minor": 2
}