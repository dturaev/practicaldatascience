{
 "cells": [
  {
   "cell_type": "markdown",
   "metadata": {},
   "source": [
    "# Projections and Coordinate Reference Systems\n",
    "\n",
    "And now the time has come to discuss projections and Coordinate Reference Systems -- perhaps the most subtle, slippery, but important topic in geospatial analysis! \n",
    "\n",
    "## The Problem\n",
    "\n",
    "Suppose that I gave you a tennis ball and a knife and asked you to cut the tennis ball so that it lays completely flat on the table. What would you do? \n",
    "\n",
    "(Seriously. Stop for a minute and think about that before proceeding. I'll wait.)\n",
    "\n",
    "What I just asked you to do is precisely the problem that GIS analysts face any time they try to work with two-dimensional maps. The Earth is round, but we not only plot our data in two dimensions, but we usually also analyze it in two dimensions (remember how we've been representing our geometric shapes with just x-y coordinates?). So... how are we moving from three dimensions to two? \n",
    "\n",
    "At first, this may seem easy given we only care about the *surface* of the Earth, which feels two-dimensional. But as you probably just realized in thinking about the tennis ball example, converting a curved surface into a flat surface actually isn't trivial. In fact, there's no way to get a tennis ball to lay perfectly flat just by cutting it -- in the end, you'd **have** to stretch the ball some to get it flat on the table.\n",
    "\n",
    "This process of flattening a three-dimensional surface into two-dimensions is what we call *projecting your data*. And projecting data turns out to be complicated because there are lots of different ways to project your surface from three dimensions down into two, and each approach will result in the surface stretching in different ways. \n",
    "\n",
    "## The Projection Impossibility Theory\n",
    "\n",
    "It turns out that when we project the Earth into two dimensions, we can only ever perfectly preserve *two* of the following *three* properties of the real world:\n",
    "\n",
    "- **Area** within polygons\n",
    "- **Distance** between points\n",
    "- **Shape** (or, more technically, the angles between intersecting lines)\n",
    "\n",
    "And so because there's no way to get a 2-D projection of the world that perfectly preserves all three of these features, GIS professionals have developed *hundreds* of different projections that strike different balances in how distortions are distributed across these different attributes of a map. \n",
    "\n",
    "To be clear, we can only *perfectly* preserve two of these three, but we can trade off our distortions across these three properties continuously. For example, one projection may try and minimize distortions across all three evenly, distorting each a little, but offering a representation of the world that's reasonable across all three dimensions. Such a projection may be good for a general purpose map. But another may prioritize preservation of distances and evenly distribute the residual distortion over the other two. That would be a good projection for analyzing travel distances.\n",
    "\n",
    "But projections don't just balance the distribution of distortions across these properties globally -- they can also distribute distortions differentially across space. A projection optimized for North America, for example, may minimize distortions for North America by accepting greater distortions in Canada and Mexico.\n",
    "\n",
    "It is for this reason that there is no \"right\" or \"correct\" projection that can be used universally. Which projection is most appropriate will always depend on the application, and so it is up to *you*, the GIS professional, to understand the trade-offs one is imposing on your data when you pick a projection.\n",
    "\n",
    "## Projection Examples\n",
    "\n",
    "stuff\n",
    "\n",
    "Want more? Here are two kinda cool places you can play with projections and see distortions interactively: [Ian Johnson](https://bl.ocks.org/enjalot/bd552e711b8325c64729), [WolframAlpha](https://demonstrations.wolfram.com/WorldMapProjections/).\n"
   ]
  },
  {
   "cell_type": "markdown",
   "metadata": {},
   "source": [
    "\n",
    "## Types of Projections\n",
    "\n",
    "While there are an infinite number of projections out there, here are a few keywords to familiarize yourself with:\n",
    "\n",
    "- **Equidistant projections:** Prioritize preserving the distance between points.\n",
    "- **Equal area projections:** Prioritize preserving the area inside polygons. \n",
    "- **Conformal:** Prioritize preserving angles of intersecting lines. \n",
    "\n",
    "In each case, how distortions are distributed over other attributes may vary.\n"
   ]
  },
  {
   "cell_type": "markdown",
   "metadata": {},
   "source": [
    "## Coordinate Reference Systems (CRS)\n",
    "\n",
    "When you receive spatial data in any standard format, it will come to you with included spatial data represented in x-y coordinates (i.e. already in a two-dimensional representation). But alongside the data, you *should* also receive information about the data's Coordinate Reference System (CRS), which tells you what those x and y coordinates actually mean (are they the result of a Mercator projection? Maybe a Robinson projection? Are they in feet or meters?). In geopandas, this is accessed through the `.crs` attribute, and we'll talk more about how this works in geopandas in our next reading. \n",
    "\n",
    "So is this CRS just telling me the projection used to make my data two-dimensional? *Almost*. You may have noticed that we keep talking about how to project the Earth onto a two-dimensional plane, and there are actually two important and distinct concepts in that: our model of the Earth, and how we're projecting the data into two-dimensions. \n",
    "\n",
    "Why do we need an explicit model of the Earth? Well, it turns out that the Earth isn't really a sphere -- it's generally fatter in the middle (an ellipsoid), and of course has differences in elevation throughout. So a CRS actually has to encode **both** the model of the Earth underlying the data **and** how data on that three-dimensional model was projected into two dimensions.\n",
    "\n",
    "I tell you this both (a) so you won't get confused if you look into the details of CRSs more, and (b) because it's kinda cool. But don't worry -- unlike projections (which you should always be mindful of choosing to suit your task), you generally don't have to worry about these models of the Earth, just know that they're part of a CRS. \n",
    "\n",
    "(Also: people will colloquially refer to a CRS as a data's projection -- so don't be surprised if people often use the term \"projection\" to refer to both the Earth model and the projection used to generate a dataset.)\n"
   ]
  },
  {
   "cell_type": "markdown",
   "metadata": {},
   "source": [
    "\n",
    "\n",
    "## A Special Note about Latitude and Longitude (aka `WGS84`, aka `EPSG 4326`)\n",
    "\n",
    "The last thing to talk about is the WGS84 CRS. Basically, some CRS aren't really meant to be used as projections (i.e. for analysis of data in 2 dimensions). For example, the CRS you're probably most familiar with in life is latitude and longitude, usually referred to in GIS circles as WGS84. Latitude and longitude are perfectly valid ways of specifying a spatial location. But it's almost always a mistake to treat your longitude and latitude coordinates as the x-y coordinates for spatial analysis. That's because, well, they weren't designed to minimize any of the distortions we described above. So while you *can* do spatial operations on data with a WGS84 CRS, you will almost always get more accurate results by re-projecting them into a better projection meant for analyzing data in two dimensions. \n"
   ]
  },
  {
   "cell_type": "markdown",
   "metadata": {},
   "source": [
    "\n",
    "## Do I Have to Work in Two-Dimensions?\n",
    "\n",
    "We've talked a lot about the challenge of working in two dimensions, which raises the question: why not just stay in three-dimensions?\n",
    "\n",
    "There are settings in which people use three-dimensional models of the Earth for GIS analysis. Airlines, for example, estimate flight distances across a sphere using what are called \"great circle\" distances. There's just no single projection that will do a good enjoy job of modeling the Earth at the scale they work, and measuring distances between points on a three-dimensional model is relatively straightforward, especially when they're through the air. \n",
    "\n",
    "But other geometric operations get *very* slippery once we move to a three-dimensional model. For example, the distance between two points is just $\\sqrt{x^2 + y^2}$ in two dimensions. In three dimensions, we'd first have to define the contour of the surface over which we're traveling (is the Earth a sphere in this model? Or do we have elevation?), then measure the distance over that contour. \n",
    "\n",
    "So no, it's not strictly necessary. But life in 2-D is much easier. \n"
   ]
  }
 ],
 "metadata": {
  "interpreter": {
   "hash": "f06fa9c80cc08d4d343f66ad24a278ad0285590eac640a80c32c9d748f33a802"
  },
  "kernelspec": {
   "display_name": "Python 3.9.1 64-bit ('base': conda)",
   "name": "python3"
  },
  "language_info": {
   "name": "python",
   "version": ""
  },
  "orig_nbformat": 4
 },
 "nbformat": 4,
 "nbformat_minor": 2
}
