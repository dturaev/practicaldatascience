{
 "cells": [
  {
   "cell_type": "markdown",
   "source": [
    "# Installing Setting Up VS Code"
   ],
   "metadata": {}
  },
  {
   "cell_type": "markdown",
   "source": [
    "## 1. Installing VS Code\n",
    "\n",
    "One tool you will find incredibly helpful in your career as a data scientist is a good text editor designed to work with plain text files (files that just contain simple text, but no fancy formatting like a Microsoft Word document or a PDF). You've probably seen a simple version of this type of editor before (Notepad on Windows, or TextEdit on macs), but is really useful to install a more robust text editor instead.\n",
    "\n",
    "For this purpose I'm going to recommend Visual Studio Code (better known as VSCode). It's a Microsoft project, but it's open source and in addition to being an easy way to edit plaintext files comes with a lot of packages for adding extra functionality. VSCode is definitely not the only good text editor out there, and you'll find that people have very strong opinions about which one to use (some people swear by in-terminal editors like eMacs, or Vim), and personally I used to rely on Atom (since github -- which developed Atom -- was bought by Microsoft, it looks like a lot of the development energy has moved over to VSCode, so I think that's a better place to go now...). If you already have one of these and like it, please feel free to stick with it!\n",
    "\n",
    "So before we install Python, please follow the directions below to install VSCode if you don't already have a good text editor."
   ],
   "metadata": {}
  },
  {
   "cell_type": "markdown",
   "source": [
    "### Installing VSCode on Macs\n",
    "\n",
    "Download and run [installer here](https://code.visualstudio.com/download). \n",
    "\n",
    "Then to make VS Code accessible from the command line (so you can type things like `code FILENAME` and have the file you named open in VS Code), make sure that after you install VSCode, follow the directions [here (for macs)](https://code.visualstudio.com/docs/setup/mac#_launching-from-the-command-line). \n",
    "\n",
    "### Installing VSCode on Windows\n",
    "\n",
    "Download [installer here](https://code.visualstudio.com/download), and make sure that during install you select the \"Add to PATH\" option."
   ],
   "metadata": {}
  },
  {
   "cell_type": "markdown",
   "source": [
    "### Installing VSCode on Macs\n",
    "\n",
    "Download and run [installer here](https://code.visualstudio.com/download). \n",
    "\n",
    "Then to make VS Code accessible from the command line (so you can type things like `code FILENAME` and have the file you named open in VS Code), make sure that after you install VSCode, follow the directions [here (for macs)](https://code.visualstudio.com/docs/setup/mac#_launching-from-the-command-line). \n",
    "\n",
    "### Installing VSCode on Windows\n",
    "\n",
    "Download [installer here](https://code.visualstudio.com/download), and make sure that during install you select the \"Add to PATH\" option."
   ],
   "metadata": {}
  },
  {
   "cell_type": "markdown",
   "source": [
    "## 4. Set terminal.integrated.inheritEnv to False\n",
    "\n",
    "In order to ensure that the integrated terminal in VS Code works properly with miniconda, we have to modify one setting. To do this, in VS Code go down to the bottom left corner and click on the gear icon, select \"Command Pallet...\", and type \"Preferences: Open Settings (JSON)\" (note the `(JSON)` at the end). That should bring you to a relatively blank document. Between the curly braces, add the following:\n",
    "\n",
    "```json\n",
    "    \"terminal.integrated.inheritEnv\": false,\n",
    "```\n",
    "\n",
    "So that your file looks something like:\n",
    "\n",
    "![inheritEnv](images/inheritEnv.png)\n",
    "\n",
    "(Note the commas at the end of each line). If you forget the step VS Code will try to prompt you to set it later with a notification, so if you see that notification make sure to select yes."
   ],
   "metadata": {}
  },
  {
   "cell_type": "markdown",
   "source": [
    "## 5. Configure conda to use conda-forge\n",
    "\n",
    "Conda is a package installer, but it is capable of installing from a number of different package providers (people who prepare packages for installation). By far the best provider of packages in `conda-forge`, so we're gonna set that as your default by running the following two lines of code:\n",
    "\n",
    "```\n",
    "conda config --add channels conda-forge\n",
    "conda config --set channel_priority strict\n",
    "```"
   ],
   "metadata": {}
  },
  {
   "cell_type": "markdown",
   "source": [
    "## 6. Install some packages!\n",
    "\n",
    "As you go along in life, you'll find you need packages from time to time, but here's a good startup installation command for things you'll want in this class:\n",
    "\n",
    "```bash\n",
    "conda install pandas jupyter pip matplotlib\n",
    "```"
   ],
   "metadata": {}
  }
 ],
 "metadata": {
  "interpreter": {
   "hash": "f06fa9c80cc08d4d343f66ad24a278ad0285590eac640a80c32c9d748f33a802"
  },
  "kernelspec": {
   "display_name": "Python 3.9.1 64-bit ('base': conda)",
   "name": "python3"
  },
  "language_info": {
   "name": "python",
   "version": ""
  }
 },
 "nbformat": 4,
 "nbformat_minor": 4
}