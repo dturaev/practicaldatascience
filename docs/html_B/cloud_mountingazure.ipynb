{
 "cells": [
  {
   "cell_type": "markdown",
   "metadata": {},
   "source": [
    "# Mount Your Container as a Drive with blobfuse\n",
    "\n",
    "Rather than accessing Azure storage through API calls, it can be nice to have your Azure Blob Container mounted on your computer like a regular directory. There are two ways to do this:\n",
    "\n"
   ]
  },
  {
   "cell_type": "markdown",
   "metadata": {},
   "source": [
    "## If you're using dask_cloudprovider\n",
    "\n",
    "If you're running a `dask` cluster, then you can get your Blob Container auto-mounted on your computer without having to do the above. You can do this by registering your Blob Container from within your Workspace as a \"Datastore\". Then you can access it like a mounted drive from inside any of your VMs! (that's what the `datastores=ws.datastores.values()` line means in the `AzureMLCluster` call you saw). \n",
    "\n",
    "To do so, just go to your Workspace, and on the very bottom of the left hand menu click \"Datastores.\" You should see two default Workspace datastores there, but let's make this interesting and add the file we just uploaded above. Now just click `+ Datastore` in the top left and connect it to the Blob Container you just created above, and you're done! Note you'll need your Storage Account key, which you can find by going back to the Azure Portal, clicking Storage Accounts, and clicking \"Access Keys\" on the left. \n",
    "\n",
    "Next time you spin up a `dask` cluster with `dask_cloudprovider`, you'll see your Container as a regular drive:\n",
    "\n",
    "![azure_mounted_containers](images/azure_mounted_containers.png)\n",
    "\n"
   ]
  },
  {
   "cell_type": "markdown",
   "metadata": {},
   "source": [
    "## If you're managing your own VM\n",
    "\n",
    "One way to make your data available is to use `blobfuse` to mount your Blob Container as though it were just a drive on your AzureML machine. `blobfuse` is already installed on all the AzureML machines, so its relatively easy to mount a drive. ([here are the full docs](https://github.com/Azure/azure-storage-fuse)). Just open a terminal (either using SSH, or if you didn't enable SSH, use Jupyter Lab to open a terminal, and run the following after replacing the angle bracket labels with real values (you shouldn't have any angle brackets when you're done!):\n",
    "\n",
    "\n",
    "```\n",
    "# Create a cache on your local SSD\n",
    "sudo mkdir /mnt/blobfusetmp -p\n",
    "sudo chown azureuser /mnt/blobfusetmp\n",
    "\n",
    "# Make the login details visible\n",
    "export AZURE_STORAGE_ACCOUNT=<yourstorageaccountname>\n",
    "export AZURE_STORAGE_ACCESS_KEY=<yourstorageaccountkey>\n",
    "\n",
    "# Create a directory that\n",
    "# will become the mounted drive\n",
    "\n",
    "mkdir <path-to-where-you-want-to-mount>\n",
    "\n",
    "blobfuse <path-to-where-you-want-to-mount> --container-name=<container-to-mount> --tmp-path=/mnt/blobfusetmp -o attr_timeout=240 -o entry_timeout=240 -o negative_timeout=120\n",
    "\n",
    "```\n",
    "\n",
    "And then your Blob container should appear in the folder you made with the `mkdir <path-to-where-you-want-to-mount>` argument. "
   ]
  }
 ],
 "metadata": {
  "kernelspec": {
   "display_name": "Python 3",
   "language": "python",
   "name": "python3"
  },
  "language_info": {
   "codemirror_mode": {
    "name": "ipython",
    "version": 3
   },
   "file_extension": ".py",
   "mimetype": "text/x-python",
   "name": "python",
   "nbconvert_exporter": "python",
   "pygments_lexer": "ipython3",
   "version": "3.7.8"
  }
 },
 "nbformat": 4,
 "nbformat_minor": 4
}
