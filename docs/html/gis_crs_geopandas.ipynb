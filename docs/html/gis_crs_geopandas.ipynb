{
 "cells": [
  {
   "cell_type": "markdown",
   "metadata": {},
   "source": [
    "## Coordinate Reference Systems (CRS)\n",
    "\n",
    "When you receive spatial data in any standard format, it will come to you with included spatial data represented in x-y coordinates (i.e. already in a two-dimensional representation). But alongside the data, you *should* also receive information about the data's Coordinate Reference System (CRS), which tells you what those x and y coordinates actually mean (are they the result of a Mercator projection? Maybe a Robinson projection? Are they in feet or meters?). In geopandas, this is accessed through the `.crs` attribute, and we'll talk more about how this works in geopandas in our next reading. \n",
    "\n",
    "So is this CRS just telling me the projection used to make my data two-dimensional? *Almost*. You may have noticed that we keep talking about how to project the Earth onto a two-dimensional plane, and there are actually two important and distinct concepts in that: our model of the Earth, and how we're projecting the data into two-dimensions. \n",
    "\n",
    "Why do we need an explicit model of the Earth? Well, it turns out that the Earth isn't really a sphere -- it's generally fatter in the middle (an ellipsoid), and of course has differences in elevation throughout. So a CRS actually has to encode **both** the model of the Earth underlying the data **and** how data on that three-dimensional model was projected into two dimensions.\n",
    "\n",
    "I tell you this both (a) so you won't get confused if you look into the details of CRSs more, and (b) because it's kinda cool. But don't worry -- unlike projections (which you should always be mindful of choosing to suit your task), you generally don't have to worry about these models of the Earth, just know that they're part of a CRS. \n",
    "\n",
    "(Also: people will colloquially refer to a CRS as a data's projection -- so don't be surprised if people often use the term \"projection\" to refer to both the Earth model and the projection used to generate a dataset.)\n"
   ]
  },
  {
   "cell_type": "markdown",
   "metadata": {},
   "source": [
    "\n",
    "\n",
    "## A Special Note about Latitude and Longitude (aka `WGS84`, aka `EPSG 4326`)\n",
    "\n",
    "The last thing to talk about is the WGS84 CRS. Basically, some CRS aren't really meant to be used as projections (i.e. for analysis of data in 2 dimensions). For example, the CRS you're probably most familiar with in life is latitude and longitude, usually referred to in GIS circles as WGS84. Latitude and longitude are perfectly valid ways of specifying a spatial location. But it's almost always a mistake to treat your longitude and latitude coordinates as the x-y coordinates for spatial analysis. That's because, well, they weren't designed to minimize any of the distortions we described above. So while you *can* do spatial operations on data with a WGS84 CRS, you will almost always get more accurate results by re-projecting them into a better projection meant for analyzing data in two dimensions. \n"
   ]
  }
 ],
 "metadata": {
  "interpreter": {
   "hash": "f06fa9c80cc08d4d343f66ad24a278ad0285590eac640a80c32c9d748f33a802"
  },
  "kernelspec": {
   "display_name": "Python 3.9.1 64-bit ('base': conda)",
   "name": "python3"
  },
  "language_info": {
   "codemirror_mode": {
    "name": "ipython",
    "version": 3
   },
   "file_extension": ".py",
   "mimetype": "text/x-python",
   "name": "python",
   "nbconvert_exporter": "python",
   "pygments_lexer": "ipython3",
   "version": "3.9.7"
  }
 },
 "nbformat": 4,
 "nbformat_minor": 2
}
