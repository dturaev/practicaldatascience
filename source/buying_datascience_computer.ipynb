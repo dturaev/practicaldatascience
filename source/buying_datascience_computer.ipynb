{
 "cells": [
  {
   "cell_type": "markdown",
   "metadata": {},
   "source": [
    "# Advice on Buying Computers for Data Science Students\n",
    "\n",
    "\n",
    "## Questions to Ask Yourself\n",
    "\n",
    "When thinking about getting a new computer, the three questions you need to ask yourself are: \n",
    "\n",
    "- how budget sensitive are you,  \n",
    "- how long does this need to be your main computer, and\n",
    "- do I actually need a new computer, or can I just upgrade my current computer?\n",
    "\n",
    "The \"how long\" question is important because if you expect to get a new laptop when you finish your Masters degree in a year and a half, you don’t need to buy a computer that has nearly as future proof. If you think it’s gonna have to last you three years, you definitely need better specs.\n",
    "\n",
    "The \"do I actually need a new computer\" question we'll talk about in more detail below.\n",
    "\n",
    "## Key Specs\n",
    "\n",
    "I think the three things you want in a Data Science computer (in order of importance) are:\n",
    "\n",
    "- **Enough RAM:** You *absolutely* want at least 16GB of RAM. 32GB can be really useful if you can get it, and if you need a laptop that will last 3 years, I'd say you want 32GB or at least the ability to expand to 32GB later.\n",
    "- **Storage:** A relatively large, fast solid state drive (an SSD, or another form of flash storage like an M.2 drive). I'd say 512GB is an absolute minimum, though personally I wouldn't go below 1TB. Note that external harddrives are poor substititues for internal harddrives!  \n",
    "    - If you only want this for a year or two, I'd say you want double the storage you currently use; if you’re gonna need this computer to last you a while I would say four times what you use now.\n",
    "- **A reasonable processor:** At least an intel i7, or an i9 if you can get it, or an Apple M1 or better. >= 6 cores I think. \n",
    "\n",
    "From a data science perspective, I don't think you need to worry about GPUs very much unless you're buying a desktop. I'm not a serious GPU user, but my understanding is that laptops just don't come with \"good\" GPUs by data science standards, I wouldn't worry about the GPU in your laptop (unless you like playing games). \n",
    "\n",
    "## Operating Systems\n",
    "\n",
    "I prefer macs -- they have the same OS architecture as linux (see [discussion here](command_line_part1.ipynb)), and so are popular in data science, and help train you well for using linux computers while cloud computing. (But I'm also addicted to iMessages, so maybe that's just stockholm syndrome speaking. :-))\n",
    "\n",
    "But of course macs are also expensive, and while there are ways to try to get them cheaper (see notes below), you can definitely get more power from a Windows machine at the same price. Moreover, if you prefer getting a windows machine for either price or personal preference reasons, if you want to be able to work in Linux, it now runs relatively seamlessly from within Windows with [WSL 2](https://docs.microsoft.com/en-us/windows/wsl/).\n",
    "\n",
    "Finally, if you just want to get an actual Linux laptop, you can do that to! If you decide to go that route, I strongly suggest that you buy it from an established retailer who will make sure that everything is installed and set up when it arrives at your door like [System76](https://pop.system76.com/). But be aware that managing Linux operating system is sure to come with some frustrations, so only do this if you enjoy mucking around and learning how operating systems really work. \n",
    "\n",
    "### A Note on Macs\n",
    "\n",
    "Rumor has it that Apple [will be releasing a new MacBook Pro line as soon as this summer](https://www.forbes.com/sites/ewanspence/2021/05/18/apple-macbook-pro-macbook-air-leak-screen-design-m2-processor/?sh=43989c962689). So if your thinking about getting a new Mac, you may want to try to put off that decision for a couple months.\n",
    "\n",
    "Your other option is to get one of the already refreshed Macs with the M1 chips. However, be aware that the M1 has integrated RAM, which means you can never add memory later. And right now, **the most memory any of these offer is 16GB,** which I think is the bare minimum for data science work. So if you get an M1 Macbook, bear in mind you will probably have to replace it before too long. \n",
    "\n",
    "## Saving Money \n",
    "\n",
    "First, the two most important features of the data science computer (RAM and fast storage) are things that you can upgrade on many computers. So before you do anything else, look into what components on your computer are upgradable. Oddly, the older your computer is the more likely you can upgrade all of the components -- overtime manufacturers have moved to integrating components in a way that makes them non-upgradable -- so don't assume this is not an option! Processors [haven't gotten that much faster in the last many years](parallelism.ipynb), so if you can upgrade the other components, your computer will probably feel like new!\n",
    "\n",
    "For Macs, if you go to [MacSales](https://eshop.macsales.com/) and click on SSD or Memory, you can tell them the computer you have and they'll tell you about your options. Windows laptops come in more shapes and sizes, so its harder to give direct guidance for a given model, but the same principles apply. \n",
    "\n",
    "Second, I'm in favor of used or refurbished computers -- nothing's changed much in the last couple years that makes a new computer that different from a 2 or 3 year-old one. But I would suggest if you get a used laptop, you buy it from a company that sells them -- vetting used laptops is tricky, so going to someone like [MacSales.com](https://eshop.macsales.com/configure-my-mac/macbook-pro) or [macofalltrades.com](www.macofalltrades.com) is probably safer. \n",
    "\n",
    "Third, remember:\n",
    "\n",
    "- used is cheaper than new \n",
    "- for the same level of performance, desktops are much much cheaper than laptops\n",
    "- Windows and Linux machines are cheaper than Macs\n",
    "\n",
    "And finally, if you're buying a mac, consider whether you can buy lower specs and upgrade yourself. Many used laptops only have 16GB ram because most people don't need more than that, but may be expandable; and if you can avoid paying Apple for RAM upgrades and do them yourself, you'll save money. **But this only works with older MacBook Pros -- newer ones aren't upgradeable**"
   ]
  }
 ],
 "metadata": {
  "kernelspec": {
   "display_name": "Python 3",
   "language": "python",
   "name": "python3"
  },
  "language_info": {
   "codemirror_mode": {
    "name": "ipython",
    "version": 3
   },
   "file_extension": ".py",
   "mimetype": "text/x-python",
   "name": "python",
   "nbconvert_exporter": "python",
   "pygments_lexer": "ipython3",
   "version": "3.7.8"
  }
 },
 "nbformat": 4,
 "nbformat_minor": 4
}
