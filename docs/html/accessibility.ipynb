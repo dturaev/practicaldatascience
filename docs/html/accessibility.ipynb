{
 "cells": [
  {
   "cell_type": "markdown",
   "metadata": {},
   "source": [
    "# Accessibility Tech for Data Science \n",
    "# (AKA Programming with a Disability) \n",
    "# (AKA Taking Care of Your Body)\n"
   ]
  },
  {
   "cell_type": "markdown",
   "metadata": {},
   "source": [
    "## Ergonomics\n",
    "\n",
    "### Monitors\n",
    "\n",
    "### Keyboards and Mice"
   ]
  },
  {
   "cell_type": "markdown",
   "metadata": {},
   "source": [
    "## Aids to Avoid Typing\n",
    "\n",
    "### Basic Dictation\n",
    "\n",
    "### Dictation for Programming with Talon\n",
    "\n",
    "### Eye Tracking"
   ]
  },
  {
   "cell_type": "markdown",
   "metadata": {},
   "source": [
    "## Aids for Vision Problems\n",
    "\n",
    "### OS Level Tools\n",
    "\n",
    "### High Contrast Themes\n",
    "\n",
    "### Color Vision Corrected Libraries"
   ]
  },
  {
   "cell_type": "markdown",
   "metadata": {},
   "source": [
    "## Other Aids\n",
    "\n",
    "### Speech to Text"
   ]
  }
 ],
 "metadata": {
  "language_info": {
   "name": "python"
  }
 },
 "nbformat": 4,
 "nbformat_minor": 2
}
