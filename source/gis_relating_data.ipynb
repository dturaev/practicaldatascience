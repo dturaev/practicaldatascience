{
 "cells": [
  {
   "cell_type": "markdown",
   "metadata": {},
   "source": [
    "# Vector Data in Python with Geopandas\n",
    "\n",
    "As noted in our introductory reading, GIS data comes in two flavors -- vector data and raster data -- and in this reading, we'll be learning about the main package for working with vector geospatial data: Geopandas!\n",
    "\n",
    "Like most tabular data we work with, geospatial vector data generally comes to us in the form of a table where each row constitutes a single observation, and each column constitutes a different variable. Unlike regular tabular data, however, each observation in vector data also contains information relating the observation to a location in the world. \n",
    "\n",
    "The term \"vector data\" comes from the fact that observations are linked to locations in the world by associating each observation with a geometric object -- a point, line, polygon -- and each of these geometric shapes is represented by a series of vertices (x-y coordinates) connected by straight lines. For example, we can represent this square:\n",
    "\n",
    "![Unit Square](https://upload.wikimedia.org/wikipedia/commons/7/71/Unit_Square.svg)\n",
    "\n",
    "with a vector consisting of the x-y coordinates of the corners of the square (the square's *vertices*): `[(0, 0), (1, 0), (1, 1), (0, 1)]` (image source: [Wikipedia](https://en.wikipedia.org/wiki/Unit_square#/media/File:Unit_Square.svg)).\n",
    "\n",
    "The ability to represent the relationship between units of observation and locations on earth using these geometric shapes is extremely powerful. For example, we can use points to represent the locations of singular objects (e.g. stores, customers, cellphone towers, etc.), but we can also use lines to represent roads or rivers, and we can use polygons to represent units of observations that cover a specific area, such as countries, media markets, census blocks, etc. \n",
    "\n",
    "Moreover, as we'll see later, because these shapes are all represented using collections of coordinates in a two-dimensional plane, these different geometric shapes can interact easily. For example, it's easy to do things like a \"spatial join\" where we pull all the rows in one dataset that have customers (represented by points) that are physically located inside a media market (represented by a polygon) in another dataset based only on their spatial relationship to one another.\n",
    "\n",
    "### Wait, Only Two Dimensions?\n",
    "\n",
    "At this point, some careful readers may be saying to themselves: \"Uh... hey: how are we just storing the vertices of these shapes as x-y coordinates? The world isn't flat, so how are we representing everything in two dimensions?\"\n",
    "\n",
    "Great question careful reader! The short answer is that when working with GIS data, we almost always treat our data as two-dimensional because we can employ some tricks to *project* locations on the round Earth into a two-dimensional plane, and working in two-dimensions is *much* easier than working in three. We'll talk a lot more about how this is done (because there are a lot of important nuances in how we choose to project locations onto a two-dimensional plane), but for the moment, it's enough to know that we can do it! \n",
    "\n",
    "Indeed, you're almost surely already familiar with one trick we use to do this: latitude and longitude coordinates! Every location on the surface of the Earth can be identified by specifying a latitude and longitude, which are (in effect) just x-y coordinates.\n",
    "\n",
    "So for the moment, if thinking about coordinates in two dimensions feels odd, just think of these coordinates as latitudes and longitudes. \n",
    "\n",
    "As mentioned in our [last reading](gis_what_is_gis.ipynb), though, and as we'll discuss in detail in a later reading, we definitely aren't limited to latitude and longitude -- indeed, the tools we're using can be used for any representation of locations in two dimensions, like locations in a warehouse or on a football field!"
   ]
  },
  {
   "cell_type": "markdown",
   "metadata": {},
   "source": [
    "## Geopandas\n",
    "\n",
    "Because vector spatial data is essentially just regular tabular data + a geometric shape associated with each row, in this course we will be using a library called Geopandas that, as the name implies, is based on Pandas. In effect, Geopandas represents vector spatial data as a pandas DataFrame that includes an object column that contains the geometric shape associated with each row (something it calls a GeoDataFrame)! To illustrate, here's the GeoDataFrame of all the countries in the world we saw in the last reading:"
   ]
  },
  {
   "cell_type": "code",
   "execution_count": 1,
   "metadata": {},
   "outputs": [
    {
     "data": {
      "text/html": [
       "<div>\n",
       "<style scoped>\n",
       "    .dataframe tbody tr th:only-of-type {\n",
       "        vertical-align: middle;\n",
       "    }\n",
       "\n",
       "    .dataframe tbody tr th {\n",
       "        vertical-align: top;\n",
       "    }\n",
       "\n",
       "    .dataframe thead th {\n",
       "        text-align: right;\n",
       "    }\n",
       "</style>\n",
       "<table border=\"1\" class=\"dataframe\">\n",
       "  <thead>\n",
       "    <tr style=\"text-align: right;\">\n",
       "      <th></th>\n",
       "      <th>pop_est</th>\n",
       "      <th>continent</th>\n",
       "      <th>name</th>\n",
       "      <th>iso_a3</th>\n",
       "      <th>gdp_md_est</th>\n",
       "      <th>geometry</th>\n",
       "    </tr>\n",
       "  </thead>\n",
       "  <tbody>\n",
       "    <tr>\n",
       "      <th>150</th>\n",
       "      <td>1972126</td>\n",
       "      <td>Europe</td>\n",
       "      <td>Slovenia</td>\n",
       "      <td>SVN</td>\n",
       "      <td>68350.0</td>\n",
       "      <td>POLYGON ((13.80648 46.50931, 14.63247 46.43182...</td>\n",
       "    </tr>\n",
       "    <tr>\n",
       "      <th>7</th>\n",
       "      <td>6909701</td>\n",
       "      <td>Oceania</td>\n",
       "      <td>Papua New Guinea</td>\n",
       "      <td>PNG</td>\n",
       "      <td>28020.0</td>\n",
       "      <td>MULTIPOLYGON (((141.00021 -2.60015, 142.73525 ...</td>\n",
       "    </tr>\n",
       "    <tr>\n",
       "      <th>30</th>\n",
       "      <td>11138234</td>\n",
       "      <td>South America</td>\n",
       "      <td>Bolivia</td>\n",
       "      <td>BOL</td>\n",
       "      <td>78350.0</td>\n",
       "      <td>POLYGON ((-69.52968 -10.95173, -68.78616 -11.0...</td>\n",
       "    </tr>\n",
       "    <tr>\n",
       "      <th>53</th>\n",
       "      <td>3758571</td>\n",
       "      <td>Africa</td>\n",
       "      <td>Mauritania</td>\n",
       "      <td>MRT</td>\n",
       "      <td>16710.0</td>\n",
       "      <td>POLYGON ((-17.06342 20.99975, -16.84519 21.333...</td>\n",
       "    </tr>\n",
       "    <tr>\n",
       "      <th>81</th>\n",
       "      <td>11403800</td>\n",
       "      <td>Africa</td>\n",
       "      <td>Tunisia</td>\n",
       "      <td>TUN</td>\n",
       "      <td>130800.0</td>\n",
       "      <td>POLYGON ((9.48214 30.30756, 9.05560 32.10269, ...</td>\n",
       "    </tr>\n",
       "  </tbody>\n",
       "</table>\n",
       "</div>"
      ],
      "text/plain": [
       "      pop_est      continent              name iso_a3  gdp_md_est  \\\n",
       "150   1972126         Europe          Slovenia    SVN     68350.0   \n",
       "7     6909701        Oceania  Papua New Guinea    PNG     28020.0   \n",
       "30   11138234  South America           Bolivia    BOL     78350.0   \n",
       "53    3758571         Africa        Mauritania    MRT     16710.0   \n",
       "81   11403800         Africa           Tunisia    TUN    130800.0   \n",
       "\n",
       "                                              geometry  \n",
       "150  POLYGON ((13.80648 46.50931, 14.63247 46.43182...  \n",
       "7    MULTIPOLYGON (((141.00021 -2.60015, 142.73525 ...  \n",
       "30   POLYGON ((-69.52968 -10.95173, -68.78616 -11.0...  \n",
       "53   POLYGON ((-17.06342 20.99975, -16.84519 21.333...  \n",
       "81   POLYGON ((9.48214 30.30756, 9.05560 32.10269, ...  "
      ]
     },
     "execution_count": 1,
     "metadata": {},
     "output_type": "execute_result"
    }
   ],
   "source": [
    "import geopandas as gpd\n",
    "import numpy as np\n",
    "\n",
    "# Load GIS data\n",
    "world = gpd.read_file(gpd.datasets.get_path(\"naturalearth_lowres\"))\n",
    "\n",
    "# Look at the data\n",
    "world.sample(5)"
   ]
  },
  {
   "cell_type": "code",
   "execution_count": 2,
   "metadata": {},
   "outputs": [
    {
     "data": {
      "text/plain": [
       "<AxesSubplot:>"
      ]
     },
     "execution_count": 2,
     "metadata": {},
     "output_type": "execute_result"
    },
    {
     "data": {
      "image/png": "[encoded data removed]",
      "text/plain": [
       "<Figure size 432x288 with 1 Axes>"
      ]
     },
     "metadata": {
      "needs_background": "light"
     },
     "output_type": "display_data"
    }
   ],
   "source": [
    "world.plot()"
   ]
  },
  {
   "cell_type": "markdown",
   "metadata": {},
   "source": [
    "Crucially, this means that GeoDataFrames support all the operations you're familiar with from pandas, including merging, subsetting, etc. In fact, geopandas isn't just based on Pandas in an abstract sense -- the way geopandas is written is by \"inheriting\" the DataFrame object from pandas then adding to it. So as soon as something changes in pandas, those changes will propagate to geopandas as well. \n",
    "\n",
    "(Honestly, this may be one of the only instances I've ever seen of the inheritance idea from object-oriented programming actually working incredibly well).\n",
    "\n",
    "To illustrate:"
   ]
  },
  {
   "cell_type": "code",
   "execution_count": 3,
   "metadata": {},
   "outputs": [
    {
     "data": {
      "text/plain": [
       "<AxesSubplot:>"
      ]
     },
     "execution_count": 3,
     "metadata": {},
     "output_type": "execute_result"
    },
    {
     "data": {
      "image/png": "[encoded data removed]",
      "text/plain": [
       "<Figure size 432x288 with 1 Axes>"
      ]
     },
     "metadata": {
      "needs_background": "light"
     },
     "output_type": "display_data"
    }
   ],
   "source": [
    "# Get countries whose population is at least 10x the \n",
    "# average county population\n",
    "big_countries = world[world.pop_est > world.pop_est.mean() * 10]\n",
    "\n",
    "# And plot the subsets\n",
    "big_countries.plot()"
   ]
  },
  {
   "cell_type": "markdown",
   "metadata": {},
   "source": [
    "China and India! Great. \n",
    "\n",
    "Also, note the axes -- as noted above, one example of how we represent spatial data in two dimensions is by making our x-y coordinates equal to latitudes and longitudes, and that's precisely the representation being used by this data. Indeed, if we try to look at the actual shape object for a single country (say, India, which is located between 70 and 100 degrees Longitude (x-coordinate) and between 10 and 40 degrees of Latitude (y-coordinate)), we can see India is represented by a `POLYGON` object whose vertices all have values in that range, as we'd expect:"
   ]
  },
  {
   "cell_type": "code",
   "execution_count": 4,
   "metadata": {},
   "outputs": [
    {
     "data": {
      "text/plain": [
       "98    POLYGON ((97.32711 28.26158, 97.40256 27.88254...\n",
       "Name: geometry, dtype: geometry"
      ]
     },
     "execution_count": 4,
     "metadata": {},
     "output_type": "execute_result"
    }
   ],
   "source": [
    "world.loc[world.name == \"India\", \"geometry\"]"
   ]
  },
  {
   "cell_type": "markdown",
   "metadata": {},
   "source": [
    "### OK, so what makes Geopandas different?\n",
    "\n",
    "Geopandas is *basically* just pandas with a column for spatial data, but that's not *all* it is. It also includes the following features we'll explore below:\n",
    "\n",
    "- **Reading and Writing Spatial Data:** Spatial data has a number of standard data formats (shapefiles, geojson, etc.), and geopandas provides tools for reading and writing to all these formats (yay!).\n",
    "- **Measuring Spatial Relationships:** Geopandas is deeply integrated with libraries for geometric manipulations, making it easy to do things like measure the distances between points in your data (say, to see if your sales people are spread out efficiently). And as mentioned before, one great uses of GIS is to link records from different databases based on locality -- say, pulling the records of all census blocks within a mile of where you might be adding a new store.\n",
    "- **Projection Management:** A geodataframe includes an attribute (the Coordinate Reference System, or CRS) that keeps track of the projection used to convert locations on the Earth into the x-y coordinates in the shape objects (which are just floating point numbers). In the case of the `world` geodataframe we saw above, for example, the geodataframe's CRS just says \"hey, the x-y coordinates used here are latitude and longitudes\". So your geodataframe stores this information, and provides some tools for moving from one projection to another. \n",
    "- **Mapping:** As you've already seen, geopandas makes simple maps easy to generate.\n",
    "- **Tools for Geometric Manipulations:** The utility of these tools are a little tricky to explain at this point, but geopandas has tools for doing things like taking points and expanding them into circles of a given diameter, or intersecting polygons.\n",
    "\n",
    "So while geopandas is great in that it should feel very familiar, don't be fooled into thinking it doesn't also have a lot of extra skills to offer. \n",
    "\n",
    "(Note: all these abilities are rooted in other libraries that geopandas integrates into a single tool, so if you start reading about GIS in Python, you're likely to come across references to libraries like Shapely, PyGEOS, fiona, pyproj, etc. Those aren't really \"alternatives\", but rather libraries that can be used independently, but which are integrated into geopandas.)\n"
   ]
  },
  {
   "cell_type": "markdown",
   "metadata": {},
   "source": [
    "## The Geometry Column\n",
    "\n",
    "One key organizing concept for a GeoDataFrame is that it only ever has one active \"geometry\" column -- that is, a column with geometric objects that are used when doing spatial operations. By default, this column is named `geometry`, but that need not be the case -- the column that "
   ]
  },
  {
   "cell_type": "markdown",
   "metadata": {},
   "source": [
    "## Relating Data Sets\n",
    "\n",
    "Like regular pandas DataFrames, GeoDataFrames can be merged with one another based on common merging variables. *Unlike* regular DataFrames, however, GeoDataFrames can also be merged based on spatial relationships using *spatial joins* with `sjoin`. \n",
    "\n",
    "To illustrate, let's being with two datasets: the dataset of countries we've been playing with already, and a dataset of cities:"
   ]
  },
  {
   "cell_type": "code",
   "execution_count": 13,
   "metadata": {},
   "outputs": [
    {
     "data": {
      "text/plain": [
       "<AxesSubplot:>"
      ]
     },
     "execution_count": 13,
     "metadata": {},
     "output_type": "execute_result"
    },
    {
     "data": {
      "image/png": "[encoded data removed]",
      "text/plain": [
       "<Figure size 432x288 with 1 Axes>"
      ]
     },
     "metadata": {
      "needs_background": "light"
     },
     "output_type": "display_data"
    }
   ],
   "source": [
    "import geopandas as gpd\n",
    "world = gpd.read_file(gpd.datasets.get_path('naturalearth_lowres'))\n",
    "world.plot()"
   ]
  },
  {
   "cell_type": "code",
   "execution_count": 15,
   "metadata": {},
   "outputs": [
    {
     "data": {
      "text/html": [
       "<div>\n",
       "<style scoped>\n",
       "    .dataframe tbody tr th:only-of-type {\n",
       "        vertical-align: middle;\n",
       "    }\n",
       "\n",
       "    .dataframe tbody tr th {\n",
       "        vertical-align: top;\n",
       "    }\n",
       "\n",
       "    .dataframe thead th {\n",
       "        text-align: right;\n",
       "    }\n",
       "</style>\n",
       "<table border=\"1\" class=\"dataframe\">\n",
       "  <thead>\n",
       "    <tr style=\"text-align: right;\">\n",
       "      <th></th>\n",
       "      <th>pop_est</th>\n",
       "      <th>continent</th>\n",
       "      <th>name</th>\n",
       "      <th>iso_a3</th>\n",
       "      <th>gdp_md_est</th>\n",
       "      <th>geometry</th>\n",
       "    </tr>\n",
       "  </thead>\n",
       "  <tbody>\n",
       "    <tr>\n",
       "      <th>98</th>\n",
       "      <td>1281935911</td>\n",
       "      <td>Asia</td>\n",
       "      <td>India</td>\n",
       "      <td>IND</td>\n",
       "      <td>8721000.0</td>\n",
       "      <td>POLYGON ((97.32711 28.26158, 97.40256 27.88254...</td>\n",
       "    </tr>\n",
       "    <tr>\n",
       "      <th>71</th>\n",
       "      <td>19196246</td>\n",
       "      <td>Africa</td>\n",
       "      <td>Malawi</td>\n",
       "      <td>MWI</td>\n",
       "      <td>21200.0</td>\n",
       "      <td>POLYGON ((32.75938 -9.23060, 33.73972 -9.41715...</td>\n",
       "    </tr>\n",
       "    <tr>\n",
       "      <th>137</th>\n",
       "      <td>23232413</td>\n",
       "      <td>Oceania</td>\n",
       "      <td>Australia</td>\n",
       "      <td>AUS</td>\n",
       "      <td>1189000.0</td>\n",
       "      <td>MULTIPOLYGON (((147.68926 -40.80826, 148.28907...</td>\n",
       "    </tr>\n",
       "  </tbody>\n",
       "</table>\n",
       "</div>"
      ],
      "text/plain": [
       "        pop_est continent       name iso_a3  gdp_md_est  \\\n",
       "98   1281935911      Asia      India    IND   8721000.0   \n",
       "71     19196246    Africa     Malawi    MWI     21200.0   \n",
       "137    23232413   Oceania  Australia    AUS   1189000.0   \n",
       "\n",
       "                                              geometry  \n",
       "98   POLYGON ((97.32711 28.26158, 97.40256 27.88254...  \n",
       "71   POLYGON ((32.75938 -9.23060, 33.73972 -9.41715...  \n",
       "137  MULTIPOLYGON (((147.68926 -40.80826, 148.28907...  "
      ]
     },
     "execution_count": 15,
     "metadata": {},
     "output_type": "execute_result"
    }
   ],
   "source": [
    "world.sample(3)"
   ]
  },
  {
   "cell_type": "code",
   "execution_count": 9,
   "metadata": {},
   "outputs": [
    {
     "data": {
      "text/plain": [
       "<AxesSubplot:>"
      ]
     },
     "execution_count": 9,
     "metadata": {},
     "output_type": "execute_result"
    },
    {
     "data": {
      "image/png": "[encoded data removed]",
      "text/plain": [
       "<Figure size 432x288 with 1 Axes>"
      ]
     },
     "metadata": {
      "needs_background": "light"
     },
     "output_type": "display_data"
    }
   ],
   "source": [
    "cities = gpd.read_file(gpd.datasets.get_path('naturalearth_cities'))\n",
    "cities.plot()"
   ]
  },
  {
   "cell_type": "code",
   "execution_count": 14,
   "metadata": {},
   "outputs": [
    {
     "data": {
      "text/html": [
       "<div>\n",
       "<style scoped>\n",
       "    .dataframe tbody tr th:only-of-type {\n",
       "        vertical-align: middle;\n",
       "    }\n",
       "\n",
       "    .dataframe tbody tr th {\n",
       "        vertical-align: top;\n",
       "    }\n",
       "\n",
       "    .dataframe thead th {\n",
       "        text-align: right;\n",
       "    }\n",
       "</style>\n",
       "<table border=\"1\" class=\"dataframe\">\n",
       "  <thead>\n",
       "    <tr style=\"text-align: right;\">\n",
       "      <th></th>\n",
       "      <th>name</th>\n",
       "      <th>geometry</th>\n",
       "    </tr>\n",
       "  </thead>\n",
       "  <tbody>\n",
       "    <tr>\n",
       "      <th>79</th>\n",
       "      <td>Quito</td>\n",
       "      <td>POINT (-78.50200 -0.21304)</td>\n",
       "    </tr>\n",
       "    <tr>\n",
       "      <th>71</th>\n",
       "      <td>Abuja</td>\n",
       "      <td>POINT (7.53138 9.08528)</td>\n",
       "    </tr>\n",
       "    <tr>\n",
       "      <th>143</th>\n",
       "      <td>Pyongyang</td>\n",
       "      <td>POINT (125.75274 39.02138)</td>\n",
       "    </tr>\n",
       "    <tr>\n",
       "      <th>106</th>\n",
       "      <td>Bangui</td>\n",
       "      <td>POINT (18.55829 4.36664)</td>\n",
       "    </tr>\n",
       "    <tr>\n",
       "      <th>100</th>\n",
       "      <td>Yamoussoukro</td>\n",
       "      <td>POINT (-5.27550 6.81838)</td>\n",
       "    </tr>\n",
       "  </tbody>\n",
       "</table>\n",
       "</div>"
      ],
      "text/plain": [
       "             name                    geometry\n",
       "79          Quito  POINT (-78.50200 -0.21304)\n",
       "71          Abuja     POINT (7.53138 9.08528)\n",
       "143     Pyongyang  POINT (125.75274 39.02138)\n",
       "106        Bangui    POINT (18.55829 4.36664)\n",
       "100  Yamoussoukro    POINT (-5.27550 6.81838)"
      ]
     },
     "execution_count": 14,
     "metadata": {},
     "output_type": "execute_result"
    }
   ],
   "source": [
    "cities.sample(5)"
   ]
  },
  {
   "cell_type": "markdown",
   "metadata": {},
   "source": [
    "In this toy city dataset, you will notice that we have cities' names, but not the country in which they are located. Since we know this variable is in our `world` dataset, we can do a spatial join to match each city observation up with the country in which it is located:"
   ]
  },
  {
   "cell_type": "code",
   "execution_count": 20,
   "metadata": {},
   "outputs": [
    {
     "data": {
      "text/html": [
       "<div>\n",
       "<style scoped>\n",
       "    .dataframe tbody tr th:only-of-type {\n",
       "        vertical-align: middle;\n",
       "    }\n",
       "\n",
       "    .dataframe tbody tr th {\n",
       "        vertical-align: top;\n",
       "    }\n",
       "\n",
       "    .dataframe thead th {\n",
       "        text-align: right;\n",
       "    }\n",
       "</style>\n",
       "<table border=\"1\" class=\"dataframe\">\n",
       "  <thead>\n",
       "    <tr style=\"text-align: right;\">\n",
       "      <th></th>\n",
       "      <th>name_left</th>\n",
       "      <th>geometry</th>\n",
       "      <th>index_right</th>\n",
       "      <th>pop_est</th>\n",
       "      <th>continent</th>\n",
       "      <th>name_right</th>\n",
       "      <th>iso_a3</th>\n",
       "      <th>gdp_md_est</th>\n",
       "    </tr>\n",
       "  </thead>\n",
       "  <tbody>\n",
       "    <tr>\n",
       "      <th>71</th>\n",
       "      <td>Abuja</td>\n",
       "      <td>POINT (7.53138 9.08528)</td>\n",
       "      <td>56.0</td>\n",
       "      <td>190632261.0</td>\n",
       "      <td>Africa</td>\n",
       "      <td>Nigeria</td>\n",
       "      <td>NGA</td>\n",
       "      <td>1089000.0</td>\n",
       "    </tr>\n",
       "    <tr>\n",
       "      <th>20</th>\n",
       "      <td>Bern</td>\n",
       "      <td>POINT (7.46698 46.91668)</td>\n",
       "      <td>127.0</td>\n",
       "      <td>8236303.0</td>\n",
       "      <td>Europe</td>\n",
       "      <td>Switzerland</td>\n",
       "      <td>CHE</td>\n",
       "      <td>496300.0</td>\n",
       "    </tr>\n",
       "    <tr>\n",
       "      <th>140</th>\n",
       "      <td>Khartoum</td>\n",
       "      <td>POINT (32.53223 15.59002)</td>\n",
       "      <td>14.0</td>\n",
       "      <td>37345935.0</td>\n",
       "      <td>Africa</td>\n",
       "      <td>Sudan</td>\n",
       "      <td>SDN</td>\n",
       "      <td>176300.0</td>\n",
       "    </tr>\n",
       "  </tbody>\n",
       "</table>\n",
       "</div>"
      ],
      "text/plain": [
       "    name_left                   geometry  index_right      pop_est continent  \\\n",
       "71      Abuja    POINT (7.53138 9.08528)         56.0  190632261.0    Africa   \n",
       "20       Bern   POINT (7.46698 46.91668)        127.0    8236303.0    Europe   \n",
       "140  Khartoum  POINT (32.53223 15.59002)         14.0   37345935.0    Africa   \n",
       "\n",
       "      name_right iso_a3  gdp_md_est  \n",
       "71       Nigeria    NGA   1089000.0  \n",
       "20   Switzerland    CHE    496300.0  \n",
       "140        Sudan    SDN    176300.0  "
      ]
     },
     "execution_count": 20,
     "metadata": {},
     "output_type": "execute_result"
    }
   ],
   "source": [
    "cities_w_county = cities.sjoin(world, how=\"left\", predicate='intersects')\n",
    "cities_w_county.sample(3)"
   ]
  },
  {
   "cell_type": "markdown",
   "metadata": {},
   "source": [
    "Voilá! Just like that we've merged two datasets that have no variables in common. Note that like our regular merge/join methods, we can use `how` to dictate which rows we keep. Unlike merge/join, we also have an argument `predicate` which dictates what spatial relationships should be merged -- when merging points with polygons, there aren't a lot of ways you can imagine rows relating to one another, but when doing spatial joins of lines with polygons (say, matching roads with the states they cross), or polygons with polygons (matching media markets to states), you can imagine more complicated relationships. As such, `predicate` accepts:\n",
    "\n",
    "- intersects\n",
    "- contains\n",
    "- within\n",
    "- touches\n",
    "- crosses\n",
    "- overlaps"
   ]
  },
  {
   "cell_type": "markdown",
   "metadata": {},
   "source": [
    "### Order of Join"
   ]
  },
  {
   "cell_type": "markdown",
   "metadata": {},
   "source": [
    "Note that while normal merge/join are symmetric -- it doesn't really matter which is the right dataset and which is left -- it does matter for spatial joins, and only the *geometry* of one dataset is preserved. So if we do `cities.sjoin(world)`, the resulting geodataframe will be points (as above), but if we flip it, we end up with country polygons:"
   ]
  },
  {
   "cell_type": "code",
   "execution_count": 27,
   "metadata": {},
   "outputs": [
    {
     "data": {
      "text/plain": [
       "<AxesSubplot:>"
      ]
     },
     "execution_count": 27,
     "metadata": {},
     "output_type": "execute_result"
    },
    {
     "data": {
      "image/png": "[encoded data removed]",
      "text/plain": [
       "<Figure size 432x288 with 1 Axes>"
      ]
     },
     "metadata": {
      "needs_background": "light"
     },
     "output_type": "display_data"
    }
   ],
   "source": [
    "world.sjoin(cities).plot()"
   ]
  },
  {
   "cell_type": "markdown",
   "metadata": {},
   "source": [
    "### Nearest Spatial Join\n",
    "\n",
    "In addition to these intersecting/overlapping/containing spatial relationships, geopandas will also do spatial joins based on proximity with `sjoin_nearest`. To illustrate, let's find each city's closest neighbor:\n",
    "\n",
    "(Note we'll get an error here telling us we shouldn't be calculating distances using a \"geographic CRS\". As with the area calculation in our [first reading](gis_what_is_gis.ipynb), its telling us something important, but something we won't discuss till our [reading on projections](gis_projections_and_crs.ipynb). MIDS students, I'll make you read that next -- if you're just coming to this through google, *please* be sure to read that after this!). "
   ]
  },
  {
   "cell_type": "code",
   "execution_count": 21,
   "metadata": {},
   "outputs": [
    {
     "name": "stderr",
     "output_type": "stream",
     "text": [
      "/Users/Nick/opt/miniconda3/lib/python3.9/site-packages/geopandas/array.py:341: UserWarning: Geometry is in a geographic CRS. Results from 'sjoin_nearest' are likely incorrect. Use 'GeoSeries.to_crs()' to re-project geometries to a projected CRS before this operation.\n",
      "\n",
      "  warnings.warn(\n"
     ]
    },
    {
     "data": {
      "text/html": [
       "<div>\n",
       "<style scoped>\n",
       "    .dataframe tbody tr th:only-of-type {\n",
       "        vertical-align: middle;\n",
       "    }\n",
       "\n",
       "    .dataframe tbody tr th {\n",
       "        vertical-align: top;\n",
       "    }\n",
       "\n",
       "    .dataframe thead th {\n",
       "        text-align: right;\n",
       "    }\n",
       "</style>\n",
       "<table border=\"1\" class=\"dataframe\">\n",
       "  <thead>\n",
       "    <tr style=\"text-align: right;\">\n",
       "      <th></th>\n",
       "      <th>name_left</th>\n",
       "      <th>geometry</th>\n",
       "      <th>index_right</th>\n",
       "      <th>name_right</th>\n",
       "    </tr>\n",
       "  </thead>\n",
       "  <tbody>\n",
       "    <tr>\n",
       "      <th>16</th>\n",
       "      <td>Ljubljana</td>\n",
       "      <td>POINT (14.51497 46.05529)</td>\n",
       "      <td>16</td>\n",
       "      <td>Ljubljana</td>\n",
       "    </tr>\n",
       "    <tr>\n",
       "      <th>158</th>\n",
       "      <td>Brussels</td>\n",
       "      <td>POINT (4.33137 50.83526)</td>\n",
       "      <td>158</td>\n",
       "      <td>Brussels</td>\n",
       "    </tr>\n",
       "    <tr>\n",
       "      <th>159</th>\n",
       "      <td>Dhaka</td>\n",
       "      <td>POINT (90.40663 23.72501)</td>\n",
       "      <td>159</td>\n",
       "      <td>Dhaka</td>\n",
       "    </tr>\n",
       "  </tbody>\n",
       "</table>\n",
       "</div>"
      ],
      "text/plain": [
       "     name_left                   geometry  index_right name_right\n",
       "16   Ljubljana  POINT (14.51497 46.05529)           16  Ljubljana\n",
       "158   Brussels   POINT (4.33137 50.83526)          158   Brussels\n",
       "159      Dhaka  POINT (90.40663 23.72501)          159      Dhaka"
      ]
     },
     "execution_count": 21,
     "metadata": {},
     "output_type": "execute_result"
    }
   ],
   "source": [
    "nearest_pairs = cities.sjoin_nearest(cities, how=\"inner\")\n",
    "nearest_pairs.sample(3)"
   ]
  },
  {
   "cell_type": "code",
   "execution_count": 25,
   "metadata": {},
   "outputs": [
    {
     "ename": "AttributeError",
     "evalue": "module 'geopandas.datasets' has no attribute 'nybb'",
     "output_type": "error",
     "traceback": [
      "\u001b[0;31m---------------------------------------------------------------------------\u001b[0m",
      "\u001b[0;31mAttributeError\u001b[0m                            Traceback (most recent call last)",
      "\u001b[0;32m/var/folders/tj/s8f2_ks15h315z5thvtnhz8r0000gp/T/ipykernel_62474/728131367.py\u001b[0m in \u001b[0;36m<module>\u001b[0;34m\u001b[0m\n\u001b[0;32m----> 1\u001b[0;31m \u001b[0mgpd\u001b[0m\u001b[0;34m.\u001b[0m\u001b[0mdatasets\u001b[0m\u001b[0;34m.\u001b[0m\u001b[0mnybb\u001b[0m\u001b[0;34m\u001b[0m\u001b[0;34m\u001b[0m\u001b[0m\n\u001b[0m",
      "\u001b[0;31mAttributeError\u001b[0m: module 'geopandas.datasets' has no attribute 'nybb'"
     ]
    }
   ],
   "source": [
    "gpd.datasets.nybb"
   ]
  },
  {
   "cell_type": "markdown",
   "metadata": {},
   "source": [
    "## Geometric Manipulations"
   ]
  }
 ],
 "metadata": {
  "interpreter": {
   "hash": "3e0a5228cb9726a24d36227c69ed0d3aac98cecda769d1c9adb080711d57f90d"
  },
  "kernelspec": {
   "display_name": "Python 3.9.7 64-bit ('base': conda)",
   "language": "python",
   "name": "python3"
  },
  "language_info": {
   "codemirror_mode": {
    "name": "ipython",
    "version": 3
   },
   "file_extension": ".py",
   "mimetype": "text/x-python",
   "name": "python",
   "nbconvert_exporter": "python",
   "pygments_lexer": "ipython3",
   "version": "3.9.7"
  },
  "orig_nbformat": 4
 },
 "nbformat": 4,
 "nbformat_minor": 2
}
