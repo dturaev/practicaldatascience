{
 "cells": [
  {
   "cell_type": "markdown",
   "source": [
    "# Accessibility Tech for Data Science \n",
    "# (AKA Programming with a Disability) \n",
    "# (AKA Taking Care of Your Body)\n"
   ],
   "metadata": {}
  },
  {
   "cell_type": "markdown",
   "source": [
    "## Ergonomics\n",
    "\n",
    "### Monitors\n",
    "\n",
    "### Keyboards and Mice"
   ],
   "metadata": {}
  },
  {
   "cell_type": "markdown",
   "source": [
    "## Aids to Avoid Typing\n",
    "\n",
    "### Basic Dictation\n",
    "\n",
    "### Dictation for Programming with Talon\n",
    "\n",
    "### Eye Tracking"
   ],
   "metadata": {}
  },
  {
   "cell_type": "markdown",
   "source": [
    "## Aids for Vision Problems\n",
    "\n",
    "### OS Level Tools\n",
    "\n",
    "### High Contrast Themes\n",
    "\n",
    "### Color Vision Corrected Libraries"
   ],
   "metadata": {}
  },
  {
   "cell_type": "markdown",
   "source": [
    "## Other Aids\n",
    "\n",
    "### Speech to Text"
   ],
   "metadata": {}
  }
 ],
 "metadata": {
  "orig_nbformat": 4,
  "language_info": {
   "name": "python"
  }
 },
 "nbformat": 4,
 "nbformat_minor": 2
}