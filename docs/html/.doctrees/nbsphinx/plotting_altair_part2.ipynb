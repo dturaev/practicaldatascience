{
 "cells": [
  {
   "cell_type": "markdown",
   "metadata": {},
   "source": [
    "# Advanced Plotting with Altair"
   ]
  },
  {
   "cell_type": "markdown",
   "metadata": {},
   "source": [
    "## What *is* an Altair Chart?\n",
    "\n",
    "Altair -> Vega Lite -> Vega -> D3 (Javascript)"
   ]
  },
  {
   "cell_type": "markdown",
   "metadata": {},
   "source": [
    "## Altair Quirks\n",
    "\n",
    "### Aggregators\n"
   ]
  },
  {
   "cell_type": "code",
   "execution_count": 1,
   "metadata": {
    "execution": {
     "iopub.execute_input": "2021-09-23T19:13:49.314061Z",
     "iopub.status.busy": "2021-09-23T19:13:49.313209Z",
     "iopub.status.idle": "2021-09-23T19:13:49.742088Z",
     "shell.execute_reply": "2021-09-23T19:13:49.742526Z"
    }
   },
   "outputs": [],
   "source": [
    "import pandas as pd\n",
    "wdi_data = (\n",
    "    \"https://raw.githubusercontent.com/nickeubank/\"\n",
    "    \"practicaldatascience/master/Example_Data/wdi_plotting.csv\"\n",
    ")\n",
    "world = pd.read_csv(wdi_data)"
   ]
  },
  {
   "cell_type": "markdown",
   "metadata": {},
   "source": [
    "\n",
    "\n",
    "### Tidy Data"
   ]
  },
  {
   "cell_type": "markdown",
   "metadata": {},
   "source": [
    "## Faceting"
   ]
  },
  {
   "cell_type": "markdown",
   "metadata": {},
   "source": [
    "## Interactive Charts"
   ]
  }
 ],
 "metadata": {
  "interpreter": {
   "hash": "f06fa9c80cc08d4d343f66ad24a278ad0285590eac640a80c32c9d748f33a802"
  },
  "kernelspec": {
   "display_name": "Python 3.9.7 64-bit ('base': conda)",
   "name": "python3"
  },
  "language_info": {
   "codemirror_mode": {
    "name": "ipython",
    "version": 3
   },
   "file_extension": ".py",
   "mimetype": "text/x-python",
   "name": "python",
   "nbconvert_exporter": "python",
   "pygments_lexer": "ipython3",
   "version": "3.9.7"
  }
 },
 "nbformat": 4,
 "nbformat_minor": 2
}
