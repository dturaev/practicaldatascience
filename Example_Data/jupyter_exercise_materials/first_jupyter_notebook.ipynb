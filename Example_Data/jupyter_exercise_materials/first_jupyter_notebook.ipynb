{
 "cells": [
  {
   "cell_type": "markdown",
   "source": [
    "# National Income and Infant Mortality\n",
    "\n",
    "In this Jupyter Notebook, we'll analyze the relationship between a country's GDP per capita (a measure of average income per person) and infant mortality (in particular, the share of every 1,000 children born who do not reach their fifth birthday). "
   ],
   "metadata": {}
  },
  {
   "cell_type": "markdown",
   "source": [
    "## Data\n",
    "\n",
    "Data for this analysis comes from the World Bank's *World Development Indicators* database. "
   ],
   "metadata": {}
  },
  {
   "cell_type": "code",
   "execution_count": null,
   "source": [
    "import pandas as pd\n",
    "import numpy as np\n",
    "\n",
    "# Download World Development Indicators\n",
    "wdi = pd.read_csv(\"https://media.githubusercontent.com/media/nickeubank/\"\n",
    "                  \"MIDS_Data/master/World_Development_Indicators/wdi_small_tidy_2015.csv\")"
   ],
   "outputs": [],
   "metadata": {}
  },
  {
   "cell_type": "markdown",
   "source": [
    "Now let's quickly look at our data. The next command just shows us the first 5 rows of our data (we'll spend more time on these tools in later lessons). Note further than you can scroll right to see more columns!:"
   ],
   "metadata": {}
  },
  {
   "cell_type": "code",
   "execution_count": null,
   "source": [
    "wdi.head()"
   ],
   "outputs": [],
   "metadata": {}
  },
  {
   "cell_type": "code",
   "execution_count": null,
   "source": [
    "# Now we can just print out the column names:\n",
    "wdi.columns"
   ],
   "outputs": [],
   "metadata": {}
  },
  {
   "cell_type": "markdown",
   "source": [
    "## Visualizing the Relationship between Log GDP Per Capita and Infant Mortality\n",
    "\n",
    "[Now it's your turn! insert the plot from `analyze_health_and_income.py` here and make any required changes to make it work]"
   ],
   "metadata": {}
  },
  {
   "cell_type": "markdown",
   "source": [
    "## Tell Me Something Cool You've Learned\n",
    "\n",
    "Write me a little markdown cell (with some fun formatting!) telling me something you saw in the plot you didn't expect."
   ],
   "metadata": {}
  },
  {
   "cell_type": "markdown",
   "source": [
    "## Export and Send Your Notebook to Me!\n",
    "\n",
    "When you are finished, the next step is to export this notebook. \n",
    "\n",
    "In my experience, the best way to do this is as follows: \n",
    "\n",
    "1. Along the top of your notebook, select \"Export\" (it might be in the three-dot menu).\n",
    "2. Choose \"HTML\" and **save it next to this notebook file**. This is important because any images in the HTML have relative file paths that are set up to be in reference to the location of your notebook, so if you save it somewhere else, when you open it you may lose all your images. \n",
    "3. Open that HTML in your normal web browser (Chrome, Firefox, etc), **not** in VS Code.\n",
    "4. Print the page to PDF.\n",
    "\n",
    "Why do this instead of choosing the PDF option when exporting? If you try and export a notebook directly to PDF, VS Code will actually try and use a tool to convert it to a LaTeX document, compile that latex document, then print, and getting this setup right can be a pain, and the LaTeX conversion often causes problems. So while a little convoluted, that's my recommendation. \n",
    "\n",
    "With that said, if you like LaTeX (and have it installed), go ahead and export directly to PDF and see if you like the result! **Just be sure to initially save the PDF next to the notebook file,** as the same issue with relative paths affects LaTeX as HTML files. \n",
    "\n",
    "Now that you have a PDF, please upload it to Gradescope!"
   ],
   "metadata": {}
  }
 ],
 "metadata": {
  "kernelspec": {
   "name": "python3",
   "display_name": "Python 3.9.6 64-bit ('base': conda)"
  },
  "language_info": {
   "codemirror_mode": {
    "name": "ipython",
    "version": 3
   },
   "file_extension": ".py",
   "mimetype": "text/x-python",
   "name": "python",
   "nbconvert_exporter": "python",
   "pygments_lexer": "ipython3",
   "version": "3.9.6"
  },
  "interpreter": {
   "hash": "f06fa9c80cc08d4d343f66ad24a278ad0285590eac640a80c32c9d748f33a802"
  }
 },
 "nbformat": 4,
 "nbformat_minor": 4
}