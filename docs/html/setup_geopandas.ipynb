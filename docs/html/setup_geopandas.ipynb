{
 "cells": [
  {
   "cell_type": "markdown",
   "metadata": {},
   "source": [
    "# Installing Geopandas"
   ]
  },
  {
   "cell_type": "markdown",
   "metadata": {},
   "source": [
    "Remember when I told you conda was generally preferred by data scientists because it could install more than just python packages? Well here's an example of a place that pays off big!\n",
    "\n",
    "In this class, we'll be focused on geopandas (for vector data) and rasterio (for raster data), but the reality is that both of these libraries are just wrappers around a set of underlying geospatial libraries that are used **everywhere** in the GIS world. Whether you're talking about `geopandas`, `rasterio`,  or in Python; `sp`, `sf`, `raster`, or `rgeos` in R, or stand-alone tools like QGIS, the reality is that all the actual GIS work is being done by a small number of libraries (written in C++) by the [OSGeo organization](https://www.osgeo.org/): [GDAL](https://www.osgeo.org/projects/gdal/) (for reading and transforming data, once upon a time called `OGR`), [GEOS](https://www.osgeo.org/projects/geos/) for geometric operations (e.g. creating unions or intersections of polygons), and [PROJ](https://www.osgeo.org/projects/proj/) for managing coordinate reference systems.\n",
    "\n",
    "And that means that to run geopandas, we have to load LOTS of little C++ dependencies, and that's where conda really helps. "
   ]
  }
 ],
 "metadata": {
  "interpreter": {
   "hash": "f06fa9c80cc08d4d343f66ad24a278ad0285590eac640a80c32c9d748f33a802"
  },
  "kernelspec": {
   "display_name": "Python 3.9.1 64-bit ('base': conda)",
   "name": "python3"
  },
  "language_info": {
   "name": "python",
   "version": ""
  }
 },
 "nbformat": 4,
 "nbformat_minor": 2
}
